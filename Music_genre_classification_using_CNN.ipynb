{
  "nbformat": 4,
  "nbformat_minor": 0,
  "metadata": {
    "colab": {
      "name": "Music_genre_classification.ipynb",
      "provenance": [],
      "collapsed_sections": [],
      "toc_visible": true
    },
    "kernelspec": {
      "name": "python3",
      "display_name": "Python 3"
    },
    "accelerator": "TPU"
  },
  "cells": [
    {
      "cell_type": "markdown",
      "metadata": {
        "id": "view-in-github"
      },
      "source": [
        "<a href=\"https://colab.research.google.com/gist/parulnith/7f8c174e6ac099e86f0495d3d9a4c01e/untitled9.ipynb\" target=\"_parent\"><img src=\"https://colab.research.google.com/assets/colab-badge.svg\" alt=\"Open In Colab\"/></a>"
      ]
    },
    {
      "cell_type": "markdown",
      "metadata": {
        "id": "cNnM2w-HCeb1"
      },
      "source": [
        "# Music genre classification notebook"
      ]
    },
    {
      "cell_type": "markdown",
      "metadata": {
        "id": "2l3sppZMCydR"
      },
      "source": [
        "## Importing Libraries"
      ]
    },
    {
      "cell_type": "code",
      "metadata": {
        "id": "Gt3fyg6dCNvX"
      },
      "source": [
        "# feature extractoring and preprocessing data\n",
        "import librosa\n",
        "import pandas as pd\n",
        "import numpy as np\n",
        "import matplotlib.pyplot as plt\n",
        "%matplotlib inline\n",
        "import os\n",
        "from PIL import Image\n",
        "import librosa.display\n",
        "import pathlib\n",
        "import csv\n",
        "\n",
        "\n",
        "# Preprocessing\n",
        "from sklearn.model_selection import train_test_split\n",
        "from sklearn.preprocessing import LabelEncoder, StandardScaler\n",
        "\n",
        "#Keras\n",
        "import keras\n",
        "\n",
        "import warnings\n",
        "warnings.filterwarnings('ignore')"
      ],
      "execution_count": 38,
      "outputs": []
    },
    {
      "cell_type": "markdown",
      "metadata": {
        "id": "DPe_ebYuDqr5"
      },
      "source": [
        "## Extracting music and features\n",
        "\n",
        "### Dataset\n",
        "\n",
        "We use [GTZAN genre collection](http://marsyasweb.appspot.com/download/data_sets/) dataset for classification. \n",
        "<br>\n",
        "<br>\n",
        "The dataset consists of 10 genres i.e\n",
        " * Blues\n",
        " * Classical\n",
        " * Country\n",
        " * Disco\n",
        " * Hiphop\n",
        " * Jazz\n",
        " * Metal\n",
        " * Pop\n",
        " * Reggae\n",
        " * Rock\n",
        " \n",
        "Each genre contains 100 songs. Total dataset: 1000 songs"
      ]
    },
    {
      "cell_type": "code",
      "metadata": {
        "colab": {
          "base_uri": "https://localhost:8080/"
        },
        "id": "b9qzAf6wn-lY",
        "outputId": "0566494b-4e1f-4138-d1f3-aeec3b27e677"
      },
      "source": [
        "!wget https://www.dropbox.com/s/yqg3c9mdmq665fy/genres.zip"
      ],
      "execution_count": 5,
      "outputs": [
        {
          "output_type": "stream",
          "text": [
            "--2020-12-16 17:46:15--  https://www.dropbox.com/s/yqg3c9mdmq665fy/genres.zip\n",
            "Resolving www.dropbox.com (www.dropbox.com)... 162.125.3.18, 2620:100:601b:18::a27d:812\n",
            "Connecting to www.dropbox.com (www.dropbox.com)|162.125.3.18|:443... connected.\n",
            "HTTP request sent, awaiting response... 301 Moved Permanently\n",
            "Location: /s/raw/yqg3c9mdmq665fy/genres.zip [following]\n",
            "--2020-12-16 17:46:16--  https://www.dropbox.com/s/raw/yqg3c9mdmq665fy/genres.zip\n",
            "Reusing existing connection to www.dropbox.com:443.\n",
            "HTTP request sent, awaiting response... 302 Found\n",
            "Location: https://uce5b7379de90588280228d1c637.dl.dropboxusercontent.com/cd/0/inline/BFOd0cST_v0IaZbsyGoJ9glwBXaNz-_822siMvJ4eWeWm8hPvZigkL--TxSGV8kNeotwHtFMx4be4Fv4qWcbtvLqIu1hlUIuGnDnTadVP2G5F7roH9VPl-viJW1vLWtcHMQ/file# [following]\n",
            "--2020-12-16 17:46:16--  https://uce5b7379de90588280228d1c637.dl.dropboxusercontent.com/cd/0/inline/BFOd0cST_v0IaZbsyGoJ9glwBXaNz-_822siMvJ4eWeWm8hPvZigkL--TxSGV8kNeotwHtFMx4be4Fv4qWcbtvLqIu1hlUIuGnDnTadVP2G5F7roH9VPl-viJW1vLWtcHMQ/file\n",
            "Resolving uce5b7379de90588280228d1c637.dl.dropboxusercontent.com (uce5b7379de90588280228d1c637.dl.dropboxusercontent.com)... 162.125.3.15, 2620:100:6018:15::a27d:30f\n",
            "Connecting to uce5b7379de90588280228d1c637.dl.dropboxusercontent.com (uce5b7379de90588280228d1c637.dl.dropboxusercontent.com)|162.125.3.15|:443... connected.\n",
            "HTTP request sent, awaiting response... 302 Found\n",
            "Location: /cd/0/inline2/BFPmkNailbCesSTI5YPBHQNcuUG8ouA-_0XryiD5JXLoiB_UqEP8Pn3peGkW8uBAvn_DQXjkgV94lI3u_0QphXsA37rI2AxVXaDsrIVbz15XVskZd9Yr5yRpbcVOlwDxtWHTBQlsYc_3P3YFL1kCdA_taOCoSIrhz7xBUQuro4j2zJevR4uJ4jEtOCyjtV-Ug6k3u3-G6iusfGirWhPvxgKpVW1eIJi6jA_kwd2LiB3SFl82WScUvXQ603yTJQ63CIwdTWXsXcXNjzASDHC0EOpLuYA-N6UQvallfzTnipNUmby2IJJ0HuUS05Pgxsw1ch7tWKY-dZgDk7rAM-xoEZB6slingFQTSAIPRHvpdpcSHw/file [following]\n",
            "--2020-12-16 17:46:17--  https://uce5b7379de90588280228d1c637.dl.dropboxusercontent.com/cd/0/inline2/BFPmkNailbCesSTI5YPBHQNcuUG8ouA-_0XryiD5JXLoiB_UqEP8Pn3peGkW8uBAvn_DQXjkgV94lI3u_0QphXsA37rI2AxVXaDsrIVbz15XVskZd9Yr5yRpbcVOlwDxtWHTBQlsYc_3P3YFL1kCdA_taOCoSIrhz7xBUQuro4j2zJevR4uJ4jEtOCyjtV-Ug6k3u3-G6iusfGirWhPvxgKpVW1eIJi6jA_kwd2LiB3SFl82WScUvXQ603yTJQ63CIwdTWXsXcXNjzASDHC0EOpLuYA-N6UQvallfzTnipNUmby2IJJ0HuUS05Pgxsw1ch7tWKY-dZgDk7rAM-xoEZB6slingFQTSAIPRHvpdpcSHw/file\n",
            "Reusing existing connection to uce5b7379de90588280228d1c637.dl.dropboxusercontent.com:443.\n",
            "HTTP request sent, awaiting response... 200 OK\n",
            "Length: 1221294182 (1.1G) [application/zip]\n",
            "Saving to: ‘genres.zip’\n",
            "\n",
            "genres.zip          100%[===================>]   1.14G  94.8MB/s    in 16s     \n",
            "\n",
            "2020-12-16 17:46:34 (70.9 MB/s) - ‘genres.zip’ saved [1221294182/1221294182]\n",
            "\n"
          ],
          "name": "stdout"
        }
      ]
    },
    {
      "cell_type": "code",
      "metadata": {
        "id": "MCWFi1t0qTNi"
      },
      "source": [
        "!unzip '/content/genres.zip'"
      ],
      "execution_count": null,
      "outputs": []
    },
    {
      "cell_type": "code",
      "metadata": {
        "id": "4OJXddlQqovo"
      },
      "source": [
        "!rm '/content/genres.zip'"
      ],
      "execution_count": 7,
      "outputs": []
    },
    {
      "cell_type": "markdown",
      "metadata": {
        "id": "AfBSVfRCD3PE"
      },
      "source": [
        "## Extracting the Spectrogram for every Audio"
      ]
    },
    {
      "cell_type": "code",
      "metadata": {
        "id": "BHh3pTEVDdrT"
      },
      "source": [
        "cmap = plt.get_cmap('inferno')\n",
        "\n",
        "plt.figure(figsize=(10,10))\n",
        "genres = 'blues classical country disco hiphop jazz metal pop reggae rock'.split()\n",
        "for g in genres:\n",
        "    pathlib.Path(f'/content/output/{g}').mkdir(parents=True, exist_ok=True)     \n",
        "    for filename in os.listdir(f'/content/genres/{g}'):\n",
        "        #print (filename)\n",
        "        #print ({g})\n",
        "        songname = f'/content/genres/{g}/{filename}'\n",
        "        #print (songname)\n",
        "        y, sr = librosa.load(songname, mono=True, duration=5)\n",
        "        plt.specgram(y, NFFT=2048, Fs=2, Fc=0, noverlap=128, cmap=cmap, sides='default', mode='default', scale='dB');\n",
        "        plt.axis('off');\n",
        "        plt.savefig(f'/content/output/{g}/{filename[:-3].replace(\".\", \"\")}.png')\n",
        "        plt.clf()"
      ],
      "execution_count": null,
      "outputs": []
    },
    {
      "cell_type": "code",
      "metadata": {
        "id": "tJNWtANMwsJZ"
      },
      "source": [
        "genres = 'blues classical'.split()\r\n",
        "for g in genres:\r\n",
        "  for filename in os.listdir(f'/content/genres/{g}'):       \r\n",
        "      songname = f'/content/genres/{g}/{filename}'\r\n",
        "      X = librosa.stft(y) #converts to short term fourier transform\r\n",
        "      Xdb = librosa.amplitude_to_db(abs(X))\r\n",
        "      plt.figure(figsize=(14, 5))\r\n",
        "      librosa.display.specshow(Xdb, sr=sr, x_axis='time', y_axis='hz') \r\n",
        "      plt.colorbar()"
      ],
      "execution_count": null,
      "outputs": []
    },
    {
      "cell_type": "markdown",
      "metadata": {
        "id": "SszVgjYnFNX9"
      },
      "source": [
        "All the audio files get converted into their respective spectrograms which is a visual representation of the spectrum of frequencies of sound or other signals as they vary with time. Above are shown for blues and classical only."
      ]
    },
    {
      "cell_type": "markdown",
      "metadata": {
        "id": "3Nw9HpSdFRsW"
      },
      "source": [
        ""
      ]
    },
    {
      "cell_type": "markdown",
      "metadata": {
        "id": "piwUwgP5Eef9"
      },
      "source": [
        "## Extracting features from Spectrogram\n",
        "\n",
        "\n",
        "We will extract\n",
        "\n",
        "* Mel-frequency cepstral coefficients (MFCC)(20 in number)\n",
        "* Spectral Centroid,\n",
        "* Zero Crossing Rate\n",
        "* Chroma Frequencies\n",
        "* Spectral Roll-off."
      ]
    },
    {
      "cell_type": "code",
      "metadata": {
        "id": "__g8tX8pDeIL"
      },
      "source": [
        "header = 'filename chroma_stft rmse spectral_centroid spectral_bandwidth rolloff zero_crossing_rate'\n",
        "for i in range(1, 21):\n",
        "    header += f' mfcc{i}'\n",
        "header += ' label'\n",
        "header = header.split()"
      ],
      "execution_count": 42,
      "outputs": []
    },
    {
      "cell_type": "markdown",
      "metadata": {
        "id": "TBlT448pEqR9"
      },
      "source": [
        "## Writing data to csv file\n",
        "\n",
        "We write the data to a csv file "
      ]
    },
    {
      "cell_type": "code",
      "metadata": {
        "id": "ZsSQmB0PE3Iu"
      },
      "source": [
        "file = open('data.csv', 'w', newline='') #data.csv in write mode\n",
        "with file:\n",
        "    writer = csv.writer(file)\n",
        "    writer.writerow(header)\n",
        "genres = 'blues classical country disco hiphop jazz metal pop reggae rock'.split()\n",
        "for g in genres:\n",
        "    for filename in os.listdir(f'/content/genres/{g}'):\n",
        "        songname = f'/content/genres/{g}/{filename}'\n",
        "        y, sr = librosa.load(songname, mono=True, duration=30)\n",
        "        chroma_stft = librosa.feature.chroma_stft(y=y, sr=sr)\n",
        "        spec_cent = librosa.feature.spectral_centroid(y=y, sr=sr)\n",
        "        spec_bw = librosa.feature.spectral_bandwidth(y=y, sr=sr)\n",
        "        rolloff = librosa.feature.spectral_rolloff(y=y, sr=sr)\n",
        "        zcr = librosa.feature.zero_crossing_rate(y)\n",
        "        rmse = librosa.feature.rmse(y)\n",
        "        mfcc = librosa.feature.mfcc(y=y, sr=sr)\n",
        "        to_append = f'{filename} {np.mean(chroma_stft)} {np.mean(rmse)} {np.mean(spec_cent)} {np.mean(spec_bw)} {np.mean(rolloff)} {np.mean(zcr)}'    \n",
        "        for e in mfcc:\n",
        "            to_append += f' {np.mean(e)}'\n",
        "        to_append += f' {g}'\n",
        "        file = open('data.csv', 'a', newline='') #data.csv in append mode\n",
        "        with file:\n",
        "            writer = csv.writer(file)\n",
        "            writer.writerow(to_append.split())"
      ],
      "execution_count": 45,
      "outputs": []
    },
    {
      "cell_type": "markdown",
      "metadata": {
        "id": "0yfdo1cj6V7d"
      },
      "source": [
        "The data has been extracted into a [data.csv](https://github.com/parulnith/Music-Genre-Classification-with-Python/blob/master/data.csv) file."
      ]
    },
    {
      "cell_type": "markdown",
      "metadata": {
        "id": "fgeCZSKQEp1A"
      },
      "source": [
        "# Analysing the Data in Pandas"
      ]
    },
    {
      "cell_type": "code",
      "metadata": {
        "id": "Kr5_EdpD9dyh",
        "colab": {
          "base_uri": "https://localhost:8080/",
          "height": 224
        },
        "outputId": "8e0245dd-16f7-4e65-f7a0-f1c2084007e8"
      },
      "source": [
        "data = pd.read_csv('data.csv')\n",
        "data.head()"
      ],
      "execution_count": 46,
      "outputs": [
        {
          "output_type": "execute_result",
          "data": {
            "text/html": [
              "<div>\n",
              "<style scoped>\n",
              "    .dataframe tbody tr th:only-of-type {\n",
              "        vertical-align: middle;\n",
              "    }\n",
              "\n",
              "    .dataframe tbody tr th {\n",
              "        vertical-align: top;\n",
              "    }\n",
              "\n",
              "    .dataframe thead th {\n",
              "        text-align: right;\n",
              "    }\n",
              "</style>\n",
              "<table border=\"1\" class=\"dataframe\">\n",
              "  <thead>\n",
              "    <tr style=\"text-align: right;\">\n",
              "      <th></th>\n",
              "      <th>filename</th>\n",
              "      <th>chroma_stft</th>\n",
              "      <th>rmse</th>\n",
              "      <th>spectral_centroid</th>\n",
              "      <th>spectral_bandwidth</th>\n",
              "      <th>rolloff</th>\n",
              "      <th>zero_crossing_rate</th>\n",
              "      <th>mfcc1</th>\n",
              "      <th>mfcc2</th>\n",
              "      <th>mfcc3</th>\n",
              "      <th>mfcc4</th>\n",
              "      <th>mfcc5</th>\n",
              "      <th>mfcc6</th>\n",
              "      <th>mfcc7</th>\n",
              "      <th>mfcc8</th>\n",
              "      <th>mfcc9</th>\n",
              "      <th>mfcc10</th>\n",
              "      <th>mfcc11</th>\n",
              "      <th>mfcc12</th>\n",
              "      <th>mfcc13</th>\n",
              "      <th>mfcc14</th>\n",
              "      <th>mfcc15</th>\n",
              "      <th>mfcc16</th>\n",
              "      <th>mfcc17</th>\n",
              "      <th>mfcc18</th>\n",
              "      <th>mfcc19</th>\n",
              "      <th>mfcc20</th>\n",
              "      <th>label</th>\n",
              "    </tr>\n",
              "  </thead>\n",
              "  <tbody>\n",
              "    <tr>\n",
              "      <th>0</th>\n",
              "      <td>blues.00030.au</td>\n",
              "      <td>0.263016</td>\n",
              "      <td>0.170081</td>\n",
              "      <td>1379.081742</td>\n",
              "      <td>2004.000850</td>\n",
              "      <td>3015.831764</td>\n",
              "      <td>0.039376</td>\n",
              "      <td>-206.987590</td>\n",
              "      <td>117.781468</td>\n",
              "      <td>23.256245</td>\n",
              "      <td>28.294068</td>\n",
              "      <td>-1.099598</td>\n",
              "      <td>18.864939</td>\n",
              "      <td>-21.953711</td>\n",
              "      <td>17.855118</td>\n",
              "      <td>-25.583357</td>\n",
              "      <td>2.128552</td>\n",
              "      <td>-17.789054</td>\n",
              "      <td>-8.015467</td>\n",
              "      <td>-17.616342</td>\n",
              "      <td>-8.138554</td>\n",
              "      <td>-8.646157</td>\n",
              "      <td>-15.538988</td>\n",
              "      <td>-15.331506</td>\n",
              "      <td>-9.664872</td>\n",
              "      <td>-10.103310</td>\n",
              "      <td>-17.835100</td>\n",
              "      <td>blues</td>\n",
              "    </tr>\n",
              "    <tr>\n",
              "      <th>1</th>\n",
              "      <td>blues.00073.au</td>\n",
              "      <td>0.341865</td>\n",
              "      <td>0.259714</td>\n",
              "      <td>2094.919420</td>\n",
              "      <td>2158.335963</td>\n",
              "      <td>4482.447895</td>\n",
              "      <td>0.100570</td>\n",
              "      <td>-30.094571</td>\n",
              "      <td>103.732289</td>\n",
              "      <td>-19.754240</td>\n",
              "      <td>56.404770</td>\n",
              "      <td>-12.710990</td>\n",
              "      <td>20.188002</td>\n",
              "      <td>-17.340381</td>\n",
              "      <td>16.292435</td>\n",
              "      <td>-18.439600</td>\n",
              "      <td>8.924175</td>\n",
              "      <td>-11.648016</td>\n",
              "      <td>11.213472</td>\n",
              "      <td>-8.842511</td>\n",
              "      <td>9.090302</td>\n",
              "      <td>-3.579252</td>\n",
              "      <td>4.372714</td>\n",
              "      <td>-2.830807</td>\n",
              "      <td>4.725089</td>\n",
              "      <td>0.485058</td>\n",
              "      <td>1.475955</td>\n",
              "      <td>blues</td>\n",
              "    </tr>\n",
              "    <tr>\n",
              "      <th>2</th>\n",
              "      <td>blues.00044.au</td>\n",
              "      <td>0.390212</td>\n",
              "      <td>0.136276</td>\n",
              "      <td>2279.124558</td>\n",
              "      <td>2375.102120</td>\n",
              "      <td>5198.360233</td>\n",
              "      <td>0.092570</td>\n",
              "      <td>-109.509285</td>\n",
              "      <td>86.922406</td>\n",
              "      <td>-8.607986</td>\n",
              "      <td>64.494557</td>\n",
              "      <td>-6.304126</td>\n",
              "      <td>43.639515</td>\n",
              "      <td>-8.286753</td>\n",
              "      <td>28.546109</td>\n",
              "      <td>-14.079793</td>\n",
              "      <td>8.125040</td>\n",
              "      <td>-21.491401</td>\n",
              "      <td>11.087480</td>\n",
              "      <td>-5.085794</td>\n",
              "      <td>3.976359</td>\n",
              "      <td>-12.859741</td>\n",
              "      <td>12.343857</td>\n",
              "      <td>0.026217</td>\n",
              "      <td>-0.741570</td>\n",
              "      <td>-5.126619</td>\n",
              "      <td>3.303441</td>\n",
              "      <td>blues</td>\n",
              "    </tr>\n",
              "    <tr>\n",
              "      <th>3</th>\n",
              "      <td>blues.00037.au</td>\n",
              "      <td>0.248627</td>\n",
              "      <td>0.069145</td>\n",
              "      <td>1188.168337</td>\n",
              "      <td>1682.860150</td>\n",
              "      <td>2339.635853</td>\n",
              "      <td>0.048160</td>\n",
              "      <td>-328.673793</td>\n",
              "      <td>102.696873</td>\n",
              "      <td>19.876064</td>\n",
              "      <td>26.731257</td>\n",
              "      <td>7.158258</td>\n",
              "      <td>22.716643</td>\n",
              "      <td>-6.956797</td>\n",
              "      <td>12.804352</td>\n",
              "      <td>-10.708748</td>\n",
              "      <td>-0.419349</td>\n",
              "      <td>-12.363976</td>\n",
              "      <td>-8.897177</td>\n",
              "      <td>-9.238519</td>\n",
              "      <td>-9.109326</td>\n",
              "      <td>-9.003836</td>\n",
              "      <td>-7.640767</td>\n",
              "      <td>-7.190916</td>\n",
              "      <td>-9.368477</td>\n",
              "      <td>-4.470060</td>\n",
              "      <td>-3.688800</td>\n",
              "      <td>blues</td>\n",
              "    </tr>\n",
              "    <tr>\n",
              "      <th>4</th>\n",
              "      <td>blues.00008.au</td>\n",
              "      <td>0.409037</td>\n",
              "      <td>0.142438</td>\n",
              "      <td>1719.213163</td>\n",
              "      <td>2031.643884</td>\n",
              "      <td>3781.318802</td>\n",
              "      <td>0.064028</td>\n",
              "      <td>-121.361024</td>\n",
              "      <td>122.513116</td>\n",
              "      <td>-14.742130</td>\n",
              "      <td>46.143444</td>\n",
              "      <td>-8.165334</td>\n",
              "      <td>20.176526</td>\n",
              "      <td>-19.172478</td>\n",
              "      <td>23.055617</td>\n",
              "      <td>-11.830503</td>\n",
              "      <td>21.177009</td>\n",
              "      <td>-6.721190</td>\n",
              "      <td>7.010945</td>\n",
              "      <td>-12.741833</td>\n",
              "      <td>5.066005</td>\n",
              "      <td>-5.175478</td>\n",
              "      <td>-1.444025</td>\n",
              "      <td>-7.037070</td>\n",
              "      <td>2.697451</td>\n",
              "      <td>3.409809</td>\n",
              "      <td>-2.698353</td>\n",
              "      <td>blues</td>\n",
              "    </tr>\n",
              "  </tbody>\n",
              "</table>\n",
              "</div>"
            ],
            "text/plain": [
              "         filename  chroma_stft      rmse  ...     mfcc19     mfcc20  label\n",
              "0  blues.00030.au     0.263016  0.170081  ... -10.103310 -17.835100  blues\n",
              "1  blues.00073.au     0.341865  0.259714  ...   0.485058   1.475955  blues\n",
              "2  blues.00044.au     0.390212  0.136276  ...  -5.126619   3.303441  blues\n",
              "3  blues.00037.au     0.248627  0.069145  ...  -4.470060  -3.688800  blues\n",
              "4  blues.00008.au     0.409037  0.142438  ...   3.409809  -2.698353  blues\n",
              "\n",
              "[5 rows x 28 columns]"
            ]
          },
          "metadata": {
            "tags": []
          },
          "execution_count": 46
        }
      ]
    },
    {
      "cell_type": "code",
      "metadata": {
        "id": "iHrDHCaR9gKR",
        "colab": {
          "base_uri": "https://localhost:8080/"
        },
        "outputId": "7527f480-e072-4506-e449-1a46fcf79a96"
      },
      "source": [
        "data.shape"
      ],
      "execution_count": 47,
      "outputs": [
        {
          "output_type": "execute_result",
          "data": {
            "text/plain": [
              "(1000, 28)"
            ]
          },
          "metadata": {
            "tags": []
          },
          "execution_count": 47
        }
      ]
    },
    {
      "cell_type": "code",
      "metadata": {
        "id": "veD5BgX49hZa"
      },
      "source": [
        "# Dropping unneccesary columns\n",
        "data = data.drop(['filename'],axis=1)"
      ],
      "execution_count": 48,
      "outputs": []
    },
    {
      "cell_type": "markdown",
      "metadata": {
        "id": "Nyr0aAAsGXjZ"
      },
      "source": [
        "## Encoding the Labels"
      ]
    },
    {
      "cell_type": "code",
      "metadata": {
        "id": "frI5HH4q-1HS"
      },
      "source": [
        "genre_list = data.iloc[:, -1]\n",
        "encoder = LabelEncoder()\n",
        "y = encoder.fit_transform(genre_list)"
      ],
      "execution_count": 49,
      "outputs": []
    },
    {
      "cell_type": "markdown",
      "metadata": {
        "id": "Slm8W0-iGVhI"
      },
      "source": [
        ""
      ]
    },
    {
      "cell_type": "markdown",
      "metadata": {
        "id": "_2n8a02zGfvP"
      },
      "source": [
        "## Scaling the Feature columns using Standard Scaler"
      ]
    },
    {
      "cell_type": "code",
      "metadata": {
        "id": "uqcqn-nyAofk"
      },
      "source": [
        "scaler = StandardScaler()\n",
        "X = scaler.fit_transform(np.array(data.iloc[:, :-1], dtype = float))"
      ],
      "execution_count": 50,
      "outputs": []
    },
    {
      "cell_type": "markdown",
      "metadata": {
        "id": "e3VZvbwpGo9R"
      },
      "source": [
        "## Dividing data into training and Testing set"
      ]
    },
    {
      "cell_type": "code",
      "metadata": {
        "id": "F1GW3VvQA7Rj"
      },
      "source": [
        "X_train, X_test, y_train, y_test = train_test_split(X, y, test_size=0.2)"
      ],
      "execution_count": 142,
      "outputs": []
    },
    {
      "cell_type": "code",
      "metadata": {
        "id": "upuczQ-KBHJ5",
        "colab": {
          "base_uri": "https://localhost:8080/"
        },
        "outputId": "c1118893-d6bd-4262-e96d-4359b9396397"
      },
      "source": [
        "len(y_train)"
      ],
      "execution_count": 143,
      "outputs": [
        {
          "output_type": "execute_result",
          "data": {
            "text/plain": [
              "800"
            ]
          },
          "metadata": {
            "tags": []
          },
          "execution_count": 143
        }
      ]
    },
    {
      "cell_type": "code",
      "metadata": {
        "id": "LtoE_FqqBzM8",
        "colab": {
          "base_uri": "https://localhost:8080/"
        },
        "outputId": "77f01932-ac3c-41d0-bc2f-4566de84dd6c"
      },
      "source": [
        "len(y_test)"
      ],
      "execution_count": 144,
      "outputs": [
        {
          "output_type": "execute_result",
          "data": {
            "text/plain": [
              "200"
            ]
          },
          "metadata": {
            "tags": []
          },
          "execution_count": 144
        }
      ]
    },
    {
      "cell_type": "code",
      "metadata": {
        "id": "ir9XaWgQB0lq",
        "colab": {
          "base_uri": "https://localhost:8080/"
        },
        "outputId": "428dc305-dbd0-402f-db77-e0afbd163cb4"
      },
      "source": [
        "X_train[10]"
      ],
      "execution_count": 145,
      "outputs": [
        {
          "output_type": "execute_result",
          "data": {
            "text/plain": [
              "array([ 1.57084109, -0.33460798,  1.22578333,  1.85963298,  1.54478988,\n",
              "        0.08228682, -0.00470943, -1.04999786,  2.45358366, -0.82609452,\n",
              "        0.62790485, -0.48863984,  1.71322289, -0.40956386,  1.21272377,\n",
              "       -0.16079748,  1.40641243, -0.29009228,  1.39898036,  0.3873688 ,\n",
              "        2.1949732 ,  0.85717042,  0.97770587,  0.14887718,  1.14075537,\n",
              "        0.26495529])"
            ]
          },
          "metadata": {
            "tags": []
          },
          "execution_count": 145
        }
      ]
    },
    {
      "cell_type": "markdown",
      "metadata": {
        "id": "Vp2yc5FWG04e"
      },
      "source": [
        "# Classification with Keras\n",
        "\n",
        "## Building our Network"
      ]
    },
    {
      "cell_type": "code",
      "metadata": {
        "id": "Qj3sc2uFEUMt"
      },
      "source": [
        "from keras import models\n",
        "from keras import layers\n",
        "from sklearn.metrics import accuracy_score, precision_score, recall_score, f1_score\n",
        "\n",
        "model = models.Sequential()\n",
        "model.add(layers.Dense(256, activation='relu', input_shape=(X_train.shape[1],)))\n",
        "\n",
        "model.add(layers.Dense(128, activation='relu'))\n",
        "\n",
        "model.add(layers.Dense(64, activation='relu'))\n",
        "\n",
        "model.add(layers.Dense(10, activation='softmax'))"
      ],
      "execution_count": 160,
      "outputs": []
    },
    {
      "cell_type": "code",
      "metadata": {
        "id": "7yrsmpI6EjJ2"
      },
      "source": [
        "model.compile(optimizer='adam',\n",
        "              loss='sparse_categorical_crossentropy',\n",
        "              metrics=['accuracy'])"
      ],
      "execution_count": 147,
      "outputs": []
    },
    {
      "cell_type": "code",
      "metadata": {
        "id": "bP0hVm4aElS7",
        "colab": {
          "base_uri": "https://localhost:8080/"
        },
        "outputId": "fc570293-8271-49d7-c58e-932f10463235"
      },
      "source": [
        "history = model.fit(X_train,\n",
        "                    y_train,\n",
        "                    epochs=20,\n",
        "                    batch_size=128)\n",
        "                   "
      ],
      "execution_count": 148,
      "outputs": [
        {
          "output_type": "stream",
          "text": [
            "Epoch 1/20\n",
            "7/7 [==============================] - 0s 3ms/step - loss: 2.2005 - accuracy: 0.2338\n",
            "Epoch 2/20\n",
            "7/7 [==============================] - 0s 3ms/step - loss: 1.8832 - accuracy: 0.3988\n",
            "Epoch 3/20\n",
            "7/7 [==============================] - 0s 3ms/step - loss: 1.6523 - accuracy: 0.4288\n",
            "Epoch 4/20\n",
            "7/7 [==============================] - 0s 3ms/step - loss: 1.4563 - accuracy: 0.4737\n",
            "Epoch 5/20\n",
            "7/7 [==============================] - 0s 3ms/step - loss: 1.3148 - accuracy: 0.5475\n",
            "Epoch 6/20\n",
            "7/7 [==============================] - 0s 3ms/step - loss: 1.2111 - accuracy: 0.5750\n",
            "Epoch 7/20\n",
            "7/7 [==============================] - 0s 3ms/step - loss: 1.1293 - accuracy: 0.6062\n",
            "Epoch 8/20\n",
            "7/7 [==============================] - 0s 3ms/step - loss: 1.0536 - accuracy: 0.6288\n",
            "Epoch 9/20\n",
            "7/7 [==============================] - 0s 3ms/step - loss: 0.9948 - accuracy: 0.6750\n",
            "Epoch 10/20\n",
            "7/7 [==============================] - 0s 4ms/step - loss: 0.9385 - accuracy: 0.6963\n",
            "Epoch 11/20\n",
            "7/7 [==============================] - 0s 3ms/step - loss: 0.8767 - accuracy: 0.7088\n",
            "Epoch 12/20\n",
            "7/7 [==============================] - 0s 3ms/step - loss: 0.8332 - accuracy: 0.7300\n",
            "Epoch 13/20\n",
            "7/7 [==============================] - 0s 3ms/step - loss: 0.7910 - accuracy: 0.7462\n",
            "Epoch 14/20\n",
            "7/7 [==============================] - 0s 3ms/step - loss: 0.7467 - accuracy: 0.7513\n",
            "Epoch 15/20\n",
            "7/7 [==============================] - 0s 4ms/step - loss: 0.7071 - accuracy: 0.7763\n",
            "Epoch 16/20\n",
            "7/7 [==============================] - 0s 3ms/step - loss: 0.6761 - accuracy: 0.7887\n",
            "Epoch 17/20\n",
            "7/7 [==============================] - 0s 3ms/step - loss: 0.6439 - accuracy: 0.7950\n",
            "Epoch 18/20\n",
            "7/7 [==============================] - 0s 3ms/step - loss: 0.6257 - accuracy: 0.7900\n",
            "Epoch 19/20\n",
            "7/7 [==============================] - 0s 3ms/step - loss: 0.5896 - accuracy: 0.8163\n",
            "Epoch 20/20\n",
            "7/7 [==============================] - 0s 3ms/step - loss: 0.5640 - accuracy: 0.8275\n"
          ],
          "name": "stdout"
        }
      ]
    },
    {
      "cell_type": "code",
      "metadata": {
        "id": "0m1J0_wUFK4C",
        "colab": {
          "base_uri": "https://localhost:8080/"
        },
        "outputId": "8fd3804a-c30f-4cb1-f36a-df83fca6d0d4"
      },
      "source": [
        "test_loss, test_acc = model.evaluate(X_test,y_test)"
      ],
      "execution_count": 149,
      "outputs": [
        {
          "output_type": "stream",
          "text": [
            "7/7 [==============================] - 0s 1ms/step - loss: 0.9671 - accuracy: 0.6700\n"
          ],
          "name": "stdout"
        }
      ]
    },
    {
      "cell_type": "code",
      "metadata": {
        "id": "f6HrjXeUF0Ko",
        "colab": {
          "base_uri": "https://localhost:8080/"
        },
        "outputId": "431502d5-718f-4c91-d514-0c66b7bd1e1f"
      },
      "source": [
        "print('test_acc: ',test_acc)"
      ],
      "execution_count": 150,
      "outputs": [
        {
          "output_type": "stream",
          "text": [
            "test_acc:  0.6700000166893005\n"
          ],
          "name": "stdout"
        }
      ]
    },
    {
      "cell_type": "markdown",
      "metadata": {
        "id": "3yQmP_f5Kq0w"
      },
      "source": [
        "Tes accuracy is less than training dataa accuracy. This hints at Overfitting"
      ]
    },
    {
      "cell_type": "markdown",
      "metadata": {
        "id": "-U2qzRJoHV9O"
      },
      "source": [
        "## Validating our approach\n",
        "Let's set apart 200 samples in our training data to use as a validation set:"
      ]
    },
    {
      "cell_type": "code",
      "metadata": {
        "id": "xJNbvYZoF7ZT"
      },
      "source": [
        "x_val = X_train[:200]\n",
        "partial_x_train = X_train[200:]\n",
        "\n",
        "y_val = y_train[:200]\n",
        "partial_y_train = y_train[200:]"
      ],
      "execution_count": 151,
      "outputs": []
    },
    {
      "cell_type": "markdown",
      "metadata": {
        "id": "L1EkG59EHeEV"
      },
      "source": [
        "Now let's train our network for 20 epochs:"
      ]
    },
    {
      "cell_type": "code",
      "metadata": {
        "id": "Dp3G4P3aP4k2",
        "colab": {
          "base_uri": "https://localhost:8080/"
        },
        "outputId": "734fa47b-044a-4511-d4d3-24c4251669be"
      },
      "source": [
        "model = models.Sequential()\n",
        "model.add(layers.Dense(512, activation='relu', input_shape=(X_train.shape[1],)))\n",
        "model.add(layers.Dense(256, activation='relu'))\n",
        "model.add(layers.Dense(128, activation='relu'))\n",
        "model.add(layers.Dense(64, activation='relu'))\n",
        "model.add(layers.Dense(10, activation='softmax'))\n",
        "\n",
        "model.compile(optimizer='adam',\n",
        "              loss='sparse_categorical_crossentropy',\n",
        "              metrics=['accuracy'])\n",
        "\n",
        "model.fit(partial_x_train,\n",
        "          partial_y_train,\n",
        "          epochs=30,\n",
        "          batch_size=512,\n",
        "          validation_data=(x_val, y_val))\n",
        "results = model.evaluate(X_test, y_test)"
      ],
      "execution_count": 152,
      "outputs": [
        {
          "output_type": "stream",
          "text": [
            "Epoch 1/30\n",
            "2/2 [==============================] - 0s 77ms/step - loss: 2.2442 - accuracy: 0.2400 - val_loss: 2.0898 - val_accuracy: 0.2700\n",
            "Epoch 2/30\n",
            "2/2 [==============================] - 0s 13ms/step - loss: 2.0280 - accuracy: 0.3267 - val_loss: 1.9454 - val_accuracy: 0.2950\n",
            "Epoch 3/30\n",
            "2/2 [==============================] - 0s 13ms/step - loss: 1.8476 - accuracy: 0.3333 - val_loss: 1.8531 - val_accuracy: 0.2950\n",
            "Epoch 4/30\n",
            "2/2 [==============================] - 0s 13ms/step - loss: 1.7215 - accuracy: 0.3450 - val_loss: 1.7652 - val_accuracy: 0.3250\n",
            "Epoch 5/30\n",
            "2/2 [==============================] - 0s 13ms/step - loss: 1.6053 - accuracy: 0.3900 - val_loss: 1.6643 - val_accuracy: 0.3950\n",
            "Epoch 6/30\n",
            "2/2 [==============================] - 0s 13ms/step - loss: 1.5046 - accuracy: 0.4567 - val_loss: 1.5861 - val_accuracy: 0.4100\n",
            "Epoch 7/30\n",
            "2/2 [==============================] - 0s 14ms/step - loss: 1.4142 - accuracy: 0.4850 - val_loss: 1.4955 - val_accuracy: 0.4200\n",
            "Epoch 8/30\n",
            "2/2 [==============================] - 0s 13ms/step - loss: 1.3229 - accuracy: 0.5217 - val_loss: 1.4294 - val_accuracy: 0.5000\n",
            "Epoch 9/30\n",
            "2/2 [==============================] - 0s 14ms/step - loss: 1.2560 - accuracy: 0.5550 - val_loss: 1.3825 - val_accuracy: 0.5100\n",
            "Epoch 10/30\n",
            "2/2 [==============================] - 0s 14ms/step - loss: 1.2130 - accuracy: 0.5900 - val_loss: 1.3376 - val_accuracy: 0.5400\n",
            "Epoch 11/30\n",
            "2/2 [==============================] - 0s 13ms/step - loss: 1.1444 - accuracy: 0.6183 - val_loss: 1.3375 - val_accuracy: 0.5050\n",
            "Epoch 12/30\n",
            "2/2 [==============================] - 0s 12ms/step - loss: 1.0943 - accuracy: 0.5967 - val_loss: 1.3274 - val_accuracy: 0.5000\n",
            "Epoch 13/30\n",
            "2/2 [==============================] - 0s 13ms/step - loss: 1.0409 - accuracy: 0.6083 - val_loss: 1.2972 - val_accuracy: 0.5100\n",
            "Epoch 14/30\n",
            "2/2 [==============================] - 0s 13ms/step - loss: 0.9911 - accuracy: 0.6583 - val_loss: 1.2798 - val_accuracy: 0.5550\n",
            "Epoch 15/30\n",
            "2/2 [==============================] - 0s 14ms/step - loss: 0.9445 - accuracy: 0.6767 - val_loss: 1.2909 - val_accuracy: 0.5600\n",
            "Epoch 16/30\n",
            "2/2 [==============================] - 0s 14ms/step - loss: 0.9119 - accuracy: 0.6850 - val_loss: 1.2546 - val_accuracy: 0.5600\n",
            "Epoch 17/30\n",
            "2/2 [==============================] - 0s 14ms/step - loss: 0.8597 - accuracy: 0.7250 - val_loss: 1.2219 - val_accuracy: 0.5800\n",
            "Epoch 18/30\n",
            "2/2 [==============================] - 0s 13ms/step - loss: 0.8275 - accuracy: 0.7300 - val_loss: 1.2354 - val_accuracy: 0.6100\n",
            "Epoch 19/30\n",
            "2/2 [==============================] - 0s 12ms/step - loss: 0.8203 - accuracy: 0.7200 - val_loss: 1.1884 - val_accuracy: 0.6150\n",
            "Epoch 20/30\n",
            "2/2 [==============================] - 0s 13ms/step - loss: 0.7624 - accuracy: 0.7483 - val_loss: 1.1851 - val_accuracy: 0.6000\n",
            "Epoch 21/30\n",
            "2/2 [==============================] - 0s 12ms/step - loss: 0.7322 - accuracy: 0.7617 - val_loss: 1.1765 - val_accuracy: 0.6000\n",
            "Epoch 22/30\n",
            "2/2 [==============================] - 0s 13ms/step - loss: 0.6942 - accuracy: 0.7800 - val_loss: 1.1478 - val_accuracy: 0.6400\n",
            "Epoch 23/30\n",
            "2/2 [==============================] - 0s 12ms/step - loss: 0.6769 - accuracy: 0.7783 - val_loss: 1.1332 - val_accuracy: 0.6400\n",
            "Epoch 24/30\n",
            "2/2 [==============================] - 0s 12ms/step - loss: 0.6401 - accuracy: 0.7883 - val_loss: 1.1634 - val_accuracy: 0.6000\n",
            "Epoch 25/30\n",
            "2/2 [==============================] - 0s 13ms/step - loss: 0.6229 - accuracy: 0.8050 - val_loss: 1.1696 - val_accuracy: 0.6100\n",
            "Epoch 26/30\n",
            "2/2 [==============================] - 0s 13ms/step - loss: 0.6061 - accuracy: 0.8133 - val_loss: 1.1467 - val_accuracy: 0.6600\n",
            "Epoch 27/30\n",
            "2/2 [==============================] - 0s 17ms/step - loss: 0.5704 - accuracy: 0.8233 - val_loss: 1.1871 - val_accuracy: 0.6350\n",
            "Epoch 28/30\n",
            "2/2 [==============================] - 0s 13ms/step - loss: 0.5777 - accuracy: 0.8200 - val_loss: 1.1302 - val_accuracy: 0.6500\n",
            "Epoch 29/30\n",
            "2/2 [==============================] - 0s 12ms/step - loss: 0.5371 - accuracy: 0.8300 - val_loss: 1.1125 - val_accuracy: 0.6250\n",
            "Epoch 30/30\n",
            "2/2 [==============================] - 0s 13ms/step - loss: 0.5173 - accuracy: 0.8383 - val_loss: 1.1159 - val_accuracy: 0.6700\n",
            "7/7 [==============================] - 0s 2ms/step - loss: 1.0359 - accuracy: 0.6350\n"
          ],
          "name": "stdout"
        }
      ]
    },
    {
      "cell_type": "markdown",
      "metadata": {
        "id": "dljqHfDPI6lH"
      },
      "source": [
        ""
      ]
    },
    {
      "cell_type": "code",
      "metadata": {
        "id": "Mvi9it1SI4aR",
        "colab": {
          "base_uri": "https://localhost:8080/"
        },
        "outputId": "1029518c-efff-4180-bb85-d3eae73d05b7"
      },
      "source": [
        "results"
      ],
      "execution_count": 153,
      "outputs": [
        {
          "output_type": "execute_result",
          "data": {
            "text/plain": [
              "[1.0359023809432983, 0.6349999904632568]"
            ]
          },
          "metadata": {
            "tags": []
          },
          "execution_count": 153
        }
      ]
    },
    {
      "cell_type": "markdown",
      "metadata": {
        "id": "r3hb8s1l4rBA"
      },
      "source": [
        "## Predictions on Test Data"
      ]
    },
    {
      "cell_type": "code",
      "metadata": {
        "id": "gudBAhIXJIi2"
      },
      "source": [
        "predictions = model.predict(X_test)"
      ],
      "execution_count": 154,
      "outputs": []
    },
    {
      "cell_type": "code",
      "metadata": {
        "id": "Xb7bVPSwJQF0",
        "colab": {
          "base_uri": "https://localhost:8080/"
        },
        "outputId": "24730a38-e93c-422d-c823-e7412d52058f"
      },
      "source": [
        "predictions[0].shape"
      ],
      "execution_count": 155,
      "outputs": [
        {
          "output_type": "execute_result",
          "data": {
            "text/plain": [
              "(10,)"
            ]
          },
          "metadata": {
            "tags": []
          },
          "execution_count": 155
        }
      ]
    },
    {
      "cell_type": "code",
      "metadata": {
        "id": "llusRQV0JRy9",
        "colab": {
          "base_uri": "https://localhost:8080/"
        },
        "outputId": "7bf3c22b-f773-4713-9bb9-339ccdc85be4"
      },
      "source": [
        "np.sum(predictions[0])"
      ],
      "execution_count": 156,
      "outputs": [
        {
          "output_type": "execute_result",
          "data": {
            "text/plain": [
              "1.0"
            ]
          },
          "metadata": {
            "tags": []
          },
          "execution_count": 156
        }
      ]
    },
    {
      "cell_type": "code",
      "metadata": {
        "id": "0eoEuSZqJTdU",
        "colab": {
          "base_uri": "https://localhost:8080/"
        },
        "outputId": "096551b2-6982-42f8-c1cb-f8885e10ef22"
      },
      "source": [
        "np.argmax(predictions[0])"
      ],
      "execution_count": 157,
      "outputs": [
        {
          "output_type": "execute_result",
          "data": {
            "text/plain": [
              "3"
            ]
          },
          "metadata": {
            "tags": []
          },
          "execution_count": 157
        }
      ]
    },
    {
      "cell_type": "code",
      "metadata": {
        "colab": {
          "base_uri": "https://localhost:8080/"
        },
        "id": "G0uh0tGLC1Tu",
        "outputId": "5960713a-3fdb-40f1-8bfe-8d39d76c8919"
      },
      "source": [
        "test_pred = model.predict_classes(X_test)\r\n",
        "test_proba = model.predict_proba(X_test)\r\n",
        "test_proba"
      ],
      "execution_count": 158,
      "outputs": [
        {
          "output_type": "stream",
          "text": [
            "WARNING:tensorflow:From <ipython-input-158-5fb1b9915358>:2: Sequential.predict_proba (from tensorflow.python.keras.engine.sequential) is deprecated and will be removed after 2021-01-01.\n",
            "Instructions for updating:\n",
            "Please use `model.predict()` instead.\n"
          ],
          "name": "stdout"
        },
        {
          "output_type": "execute_result",
          "data": {
            "text/plain": [
              "array([[1.59940362e-04, 3.10898540e-05, 1.01994565e-02, ...,\n",
              "        4.53037536e-03, 3.38705326e-03, 9.23945159e-02],\n",
              "       [6.59426689e-01, 1.67315250e-06, 3.32727563e-03, ...,\n",
              "        2.65943527e-05, 3.95963620e-03, 1.50763258e-01],\n",
              "       [5.44218346e-03, 5.87247541e-06, 5.13623049e-03, ...,\n",
              "        5.26007898e-06, 2.15779361e-03, 5.64292133e-01],\n",
              "       ...,\n",
              "       [6.37126505e-01, 9.48291345e-05, 9.90096293e-03, ...,\n",
              "        4.56858725e-05, 4.40746732e-02, 2.54968762e-01],\n",
              "       [5.92095815e-02, 1.45836854e-08, 1.19431665e-04, ...,\n",
              "        6.84015902e-07, 2.47452961e-04, 2.12982483e-03],\n",
              "       [7.15531548e-03, 5.82542678e-04, 2.89253183e-02, ...,\n",
              "        1.54977562e-02, 1.37430336e-02, 1.15648985e-01]], dtype=float32)"
            ]
          },
          "metadata": {
            "tags": []
          },
          "execution_count": 158
        }
      ]
    },
    {
      "cell_type": "code",
      "metadata": {
        "colab": {
          "base_uri": "https://localhost:8080/"
        },
        "id": "lkhQwhZ6DR2P",
        "outputId": "c422ecee-8062-4a79-c580-b2fe2c136089"
      },
      "source": [
        "accuracy_score(y_test, test_pred)"
      ],
      "execution_count": 161,
      "outputs": [
        {
          "output_type": "execute_result",
          "data": {
            "text/plain": [
              "0.635"
            ]
          },
          "metadata": {
            "tags": []
          },
          "execution_count": 161
        }
      ]
    }
  ]
}